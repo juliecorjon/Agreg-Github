{
 "cells": [
  {
   "cell_type": "markdown",
   "metadata": {},
   "source": [
    "# Simulation Agrégation\n",
    "\n",
    "* [Figure de diffraction par N fentes](Diffraction_N_fentes.ipynb)\n",
    "* [Effet tunnel](Effet_tunnel.ipynb)\n",
    "* [Échantillionage](Echantillionage_filtrage.ipynb)\n",
    "* [Fentes de Young](Fentes_Young.ipynb)\n",
    "* [Oscillateur amorti](Oscillateur_amorti.ipynb)\n"
   ]
  },
  {
   "cell_type": "code",
   "execution_count": null,
   "metadata": {
    "collapsed": true
   },
   "outputs": [],
   "source": []
  }
 ],
 "metadata": {
  "kernelspec": {
   "display_name": "Python 3",
   "language": "python",
   "name": "python3"
  },
  "language_info": {
   "codemirror_mode": {
    "name": "ipython",
    "version": 3
   },
   "file_extension": ".py",
   "mimetype": "text/x-python",
   "name": "python",
   "nbconvert_exporter": "python",
   "pygments_lexer": "ipython3",
   "version": "3.6.8"
  }
 },
 "nbformat": 4,
 "nbformat_minor": 2
}
