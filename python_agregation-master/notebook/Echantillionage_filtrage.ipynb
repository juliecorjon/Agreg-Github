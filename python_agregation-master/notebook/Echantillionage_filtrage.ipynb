{
 "cells": [
  {
   "cell_type": "markdown",
   "metadata": {},
   "source": [
    "## Echantillonage - filtrage\n",
    "\n",
    "Ce programme a pour objectif de mettre en évidence l'effet d'échantionnage, ainsi que l'effet de filtrage sur un signal analogique.\n"
   ]
  },
  {
   "cell_type": "code",
   "execution_count": 1,
   "metadata": {
    "collapsed": true
   },
   "outputs": [],
   "source": [
    "# Chargement des librairies \n",
    "%matplotlib widget\n",
    "import matplotlib.pyplot as plt\n",
    "plt.ioff()\n",
    "\n",
    "from helpers import display_simulation_window # Module local permettant de faire un application\n",
    "\n",
    "from ipywidgets import FloatSlider, IntSlider\n",
    "\n",
    "import numpy as np"
   ]
  },
  {
   "cell_type": "code",
   "execution_count": 2,
   "metadata": {
    "collapsed": true
   },
   "outputs": [],
   "source": [
    "# Variables globales\n",
    "\n",
    "frequence_signal = 10 \n",
    "duree_acquisition = 1 \n",
    "\n",
    "parameters = {\n",
    "    'freq_ech': FloatSlider(value=35, description=\"Échantillionage -- $f_\\mathrm{ech}$ (S/s)\", max=60.0, min=5),\n",
    "}\n",
    "\n"
   ]
  },
  {
   "cell_type": "code",
   "execution_count": 3,
   "metadata": {
    "collapsed": true
   },
   "outputs": [],
   "source": [
    "# Modèle utilisé\n",
    "# =============================================================================\n",
    "# --- Fonction intermediaire qui échantillone le signal -----------------------\n",
    "# =============================================================================\n",
    "\n",
    "def signal_entree(fech, fe=frequence_signal, Tacq=duree_acquisition, amp=1): \n",
    "    '''\n",
    "    fe : fréquence du signal\n",
    "    fech : fréquence d'échantillonage\n",
    "    Tacq : Temps d'acquisition\n",
    "    amp : amplitude du signal\n",
    "    '''\n",
    "\n",
    "    Npoint = int(fech*Tacq)+1\n",
    "    temps=np.arange(Npoint)/fech\n",
    "    \n",
    "    signal=amp*np.cos(2*np.pi*fe*temps)\n",
    "    \n",
    "    return temps, signal\n",
    "\n",
    "\n",
    "table_vrai_signal_x, table_vrai_signal_y = signal_entree(200*frequence_signal)\n",
    "    \n",
    "#Table du signal échantilloné initialt\n",
    "tablex, tabley = signal_entree(frequence_signal)\n"
   ]
  },
  {
   "cell_type": "code",
   "execution_count": 4,
   "metadata": {
    "collapsed": true
   },
   "outputs": [],
   "source": [
    "# Réalisation du plot\n",
    "def plot_figure(fig, freq_ech=35):\n",
    "    ax = fig.subplots(1,1)\n",
    "\n",
    "    #Signal analogique (en fait échantilloné avec une très grande fréquence : \n",
    "    #aucun problème de repliement de spectre)\n",
    "    vrai_signal_x, vrai_signal_y = signal_entree(200*frequence_signal)\n",
    "    \n",
    "    #Signal échantilloné\n",
    "    x, y = signal_entree(freq_ech)\n",
    "\n",
    "    ax.plot(vrai_signal_x,vrai_signal_y, color='blue', linewidth=1, label=\"Analogique\")\n",
    "    l, = ax.plot(x, y, color='red', marker='x', markersize=10, linewidth=2, label=\"Numérique\")\n",
    "\n",
    "    ax.set_ylim(-1.3, 1.4)\n",
    "    ax.set_ylabel(r'U.A')\n",
    "    ax.set_xlabel(r't(s)')\n",
    "    ax.legend(loc=\"upper left\", bbox_to_anchor=[0, 1], ncol=3, shadow=True, fancybox=True)\n",
    "\n",
    "    return fig"
   ]
  },
  {
   "cell_type": "code",
   "execution_count": 5,
   "metadata": {
    "collapsed": true
   },
   "outputs": [],
   "source": [
    "##### Affichage non interactif #####\n",
    "# plot_figure(plt.figure())"
   ]
  },
  {
   "cell_type": "code",
   "execution_count": 6,
   "metadata": {
    "collapsed": true
   },
   "outputs": [],
   "source": [
    "doc = r\"\"\"\n",
    "## Echantillionage\n",
    "\n",
    "* $f = 10~\\mathrm{Hz}$\n",
    "* $a = 1$\n",
    "\"\"\"\n",
    "\n"
   ]
  },
  {
   "cell_type": "code",
   "execution_count": 7,
   "metadata": {
    "scrolled": false
   },
   "outputs": [
    {
     "data": {
      "application/vnd.jupyter.widget-view+json": {
       "model_id": "90776a88e4a44005aca1b02d9d040e7c",
       "version_major": 2,
       "version_minor": 0
      },
      "text/plain": [
       "A Jupyter Widget"
      ]
     },
     "metadata": {},
     "output_type": "display_data"
    }
   ],
   "source": [
    "display_simulation_window('Echnatillionage', parameters, plot_figure, doc)"
   ]
  }
 ],
 "metadata": {
  "kernelspec": {
   "display_name": "Python 3",
   "language": "python",
   "name": "python3"
  },
  "language_info": {
   "codemirror_mode": {
    "name": "ipython",
    "version": 3
   },
   "file_extension": ".py",
   "mimetype": "text/x-python",
   "name": "python",
   "nbconvert_exporter": "python",
   "pygments_lexer": "ipython3",
   "version": "3.7.1"
  }
 },
 "nbformat": 4,
 "nbformat_minor": 2
}
