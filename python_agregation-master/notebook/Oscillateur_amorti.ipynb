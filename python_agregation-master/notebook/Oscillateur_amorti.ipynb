{
 "cells": [
  {
   "cell_type": "markdown",
   "metadata": {},
   "source": [
    "## Oscillateur amorti\n",
    "\n",
    "Ce programme représente la réponse temporelle d'un oscillateur amorti générique à un forçage en échelon à l'instant $t=0$. Il est possible de faire varier l'amplitude de l'échelon, la fréquence centrale de l'oscillateur amorti, sont temps de décroissance caractéristique ainsi que la phase de sa réponse. \n",
    "\n",
    "REMARQUE (Pierre Cladé) : Je ne comprends pas la signification de la pahse de la réponse. "
   ]
  },
  {
   "cell_type": "code",
   "execution_count": 8,
   "metadata": {
    "collapsed": true
   },
   "outputs": [],
   "source": [
    "# Chargement des librairies \n",
    "%matplotlib widget\n",
    "import matplotlib.pyplot as plt\n",
    "plt.ioff()\n",
    "\n",
    "from helpers import display_simulation_window # Module local permettant de faire un application\n",
    "\n",
    "from ipywidgets import FloatSlider, IntSlider, Checkbox\n",
    "\n",
    "import numpy as np"
   ]
  },
  {
   "cell_type": "code",
   "execution_count": 9,
   "metadata": {},
   "outputs": [],
   "source": [
    "# Variables globales et paramètres\n",
    "\n",
    "parameters = {\n",
    "    \"freq\": FloatSlider(description='Fréquence propre -- $f$ (Hz)', min=1, max=30.0, value=3),\n",
    "    \"amp\" : FloatSlider(description=\"Amplitude de l'echelon -- $A$ (V)\", min=0.1, max=10.0, value=5),\n",
    "    \"tau\" : FloatSlider(description=r\"Temps de declin caracteristique -- $\\tau$ (s)\", min=0.1, max=2.0, value=1),\n",
    "    \"phi\" : FloatSlider(description='Phase de la réponse -- $\\phi$ (rad)', min=0, max=2.0*np.pi, value=0),\n",
    "    'show_env': Checkbox(value=False, description='Enveloppe'),\n",
    "}\n"
   ]
  },
  {
   "cell_type": "code",
   "execution_count": 10,
   "metadata": {
    "collapsed": true
   },
   "outputs": [],
   "source": [
    "# Modèle utilisé\n",
    "\n",
    "# Creation de la fonction a tracer \n",
    "def oscillation(t, amp, freq, phi, tau):\n",
    "    return amp*np.sin(2*np.pi*freq*t+phi)*np.exp(-(t/tau))\n",
    "# Et on fait aussi les enveloppes\n",
    "def enveloppe(t, amp, freq, phi, tau):\n",
    "    return amp*np.exp(-t/tau)\n"
   ]
  },
  {
   "cell_type": "code",
   "execution_count": 11,
   "metadata": {},
   "outputs": [],
   "source": [
    "# Réalisation du plot\n",
    "def plot_figure(fig, amp, freq, phi, tau, show_env):\n",
    "    ax = fig.subplots(1,1)\n",
    "\n",
    "\n",
    "    t = np.linspace(0, 1, 201)\n",
    "\n",
    "    ax.plot(t, oscillation(t, amp, freq, phi, tau), lw=2, color='red')\n",
    "    if show_env:\n",
    "        ax.plot(t, enveloppe(t, amp, freq, phi, tau), lw=1, ls='--',color='red')\n",
    "        ax.plot(t, -enveloppe(t, amp, freq, phi, tau), lw=1, ls='--',color='red')\n",
    "    ax.set_ylim(-amp, amp)\n",
    "\n",
    "    #ax.legend()\n",
    "\n",
    "    ax.set_xlabel('temps (s)')\n",
    "    ax.set_ylabel('Amplitude (V)')\n",
    "    ax.grid()\n",
    "    return fig"
   ]
  },
  {
   "cell_type": "code",
   "execution_count": 12,
   "metadata": {
    "collapsed": true
   },
   "outputs": [],
   "source": [
    "##### Affichage non interactif #####\n",
    "# plot_figure(plt.figure())"
   ]
  },
  {
   "cell_type": "code",
   "execution_count": 21,
   "metadata": {
    "collapsed": true
   },
   "outputs": [],
   "source": [
    "doc = r\"\"\"\n",
    "## Oscillateur amorti\n",
    "\n",
    "* $ A \\sin(2\\pi f t)e^{-t/\\tau}$\n",
    "\"\"\"\n"
   ]
  },
  {
   "cell_type": "code",
   "execution_count": 22,
   "metadata": {},
   "outputs": [
    {
     "data": {
      "application/vnd.jupyter.widget-view+json": {
       "model_id": "dbb8bfe41fca428ca213bf3cb13efd60",
       "version_major": 2,
       "version_minor": 0
      },
      "text/plain": [
       "A Jupyter Widget"
      ]
     },
     "metadata": {},
     "output_type": "display_data"
    }
   ],
   "source": [
    "\n",
    "\n",
    "display_simulation_window('Titre', parameters, plot_figure, doc)"
   ]
  },
  {
   "cell_type": "code",
   "execution_count": null,
   "metadata": {
    "collapsed": true
   },
   "outputs": [],
   "source": []
  }
 ],
 "metadata": {
  "kernelspec": {
   "display_name": "Python 3",
   "language": "python",
   "name": "python3"
  },
  "language_info": {
   "codemirror_mode": {
    "name": "ipython",
    "version": 3
   },
   "file_extension": ".py",
   "mimetype": "text/x-python",
   "name": "python",
   "nbconvert_exporter": "python",
   "pygments_lexer": "ipython3",
   "version": "3.7.1"
  }
 },
 "nbformat": 4,
 "nbformat_minor": 2
}
