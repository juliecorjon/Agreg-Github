{
 "cells": [
  {
   "cell_type": "markdown",
   "metadata": {},
   "source": [
    "## Titre\n",
    "\n",
    "Commentaires"
   ]
  },
  {
   "cell_type": "code",
   "execution_count": null,
   "metadata": {
    "collapsed": true
   },
   "outputs": [],
   "source": [
    "# Chargement des librairies \n",
    "%matplotlib widget\n",
    "import matplotlib.pyplot as plt\n",
    "plt.ioff()\n",
    "\n",
    "from helpers import display_simulation_window # Module local permettant de faire un application\n",
    "\n",
    "from ipywidgets import FloatSlider, IntSlider\n",
    "\n",
    "import numpy as np"
   ]
  },
  {
   "cell_type": "code",
   "execution_count": null,
   "metadata": {
    "collapsed": true
   },
   "outputs": [],
   "source": [
    "# Variables globales et paramètres\n",
    "\n",
    "parameters = {\n",
    "    'freq': FloatSlider(value=6.0, description='Fréquence', max=12.0),\n",
    "     'amplitude': FloatSlider(value=2.0, description='Amplitude', max=2.0)\n",
    "}"
   ]
  },
  {
   "cell_type": "code",
   "execution_count": null,
   "metadata": {
    "collapsed": true
   },
   "outputs": [],
   "source": [
    "# Modèle utilisé\n",
    "\n",
    "def onde(t, freq, amplitude):\n",
    "    return amplitude*np.sin(2*np.pi*freq*t)"
   ]
  },
  {
   "cell_type": "code",
   "execution_count": null,
   "metadata": {
    "collapsed": true
   },
   "outputs": [],
   "source": [
    "# Réalisation du plot\n",
    "def plot_figure(fig, freq=100, amplitude=1):\n",
    "    ax = fig.subplots(1,1)\n",
    "\n",
    "    x = np.linspace(0, 1, 200)\n",
    "    \n",
    "    ax.plot(x, onde(x, freq, amplitude), label='LLLLLLLLL')\n",
    "\n",
    "    ax.legend()\n",
    "\n",
    "    ax.set_xlabel('XXXXXX') \n",
    "    ax.set_ylabel('YYYYYY')\n",
    "    return fig"
   ]
  },
  {
   "cell_type": "code",
   "execution_count": null,
   "metadata": {
    "collapsed": true
   },
   "outputs": [],
   "source": [
    "##### Affichage non interactif #####\n",
    "# plot_figure(plt.figure())"
   ]
  },
  {
   "cell_type": "code",
   "execution_count": null,
   "metadata": {
    "collapsed": true
   },
   "outputs": [],
   "source": [
    "doc = r\"\"\"\n",
    "## Un titre\n",
    "\n",
    "* Des commentaires\n",
    "* Et des équations $E=mc^2$\n",
    "\"\"\"\n"
   ]
  },
  {
   "cell_type": "code",
   "execution_count": null,
   "metadata": {
    "collapsed": true
   },
   "outputs": [],
   "source": [
    "\n",
    "\n",
    "display_simulation_window('Titre', parameters, plot_figure, doc)"
   ]
  },
  {
   "cell_type": "code",
   "execution_count": null,
   "metadata": {
    "collapsed": true
   },
   "outputs": [],
   "source": []
  }
 ],
 "metadata": {
  "kernelspec": {
   "display_name": "Python 3",
   "language": "python",
   "name": "python3"
  },
  "language_info": {
   "codemirror_mode": {
    "name": "ipython",
    "version": 3
   },
   "file_extension": ".py",
   "mimetype": "text/x-python",
   "name": "python",
   "nbconvert_exporter": "python",
   "pygments_lexer": "ipython3",
   "version": "3.6.8"
  }
 },
 "nbformat": 4,
 "nbformat_minor": 2
}
