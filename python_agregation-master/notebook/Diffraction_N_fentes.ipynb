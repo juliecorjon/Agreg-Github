{
 "cells": [
  {
   "cell_type": "markdown",
   "metadata": {},
   "source": [
    "## Figure de diffraction par N fentes\n",
    "\n",
    "Ce programme représente la figure d'interférence obtenue lorsqu'une onde plane monochromatique de longueur d'onde lambda traverse un dispositif de $N$ fentes régulièrement espacées d'une distance $a$ (centre-centre) et de largeur $b$ chacunes. L'écran est positionné à une distance $D$ des fentes. \n",
    "\n",
    "Le résultat présenté est l'intensité lumineuse normalisée en fonction de la position réduite sur l'écran pour permettre une comparaison des différentes situations.\n",
    "\n",
    "Il est aussi possible de tracer l'enveloppe de diffraction correspondant à la diffraction par une fente de largeur $w$ seule. "
   ]
  },
  {
   "cell_type": "code",
   "execution_count": 1,
   "metadata": {
    "collapsed": true
   },
   "outputs": [],
   "source": [
    "%matplotlib widget\n",
    "import matplotlib.pyplot as plt\n",
    "plt.ioff()\n",
    "\n",
    "from helpers import display_simulation_window # Module local permettant de faire une application\n",
    "\n",
    "from ipywidgets import FloatSlider, IntSlider, Checkbox\n",
    "\n",
    "import numpy as np"
   ]
  },
  {
   "cell_type": "code",
   "execution_count": 2,
   "metadata": {
    "collapsed": true
   },
   "outputs": [],
   "source": [
    "# Variables globales et paramètres\n",
    "\n",
    "N0 = 2  # Nombre de fentes\n",
    "a0 = 2  # Pas du reseau (distance entre fentes en µm)\n",
    "b0 = 1  # taille d'une fente (en µm)\n",
    "lamb0 = 0.633  # Longueur d'onde dans le vide (en µm)\n",
    "\n",
    "parameters = dict(\n",
    "    N = IntSlider(N0, 2, 30, description='Nombre de fentes -- N'),\n",
    "    a = FloatSlider(a0, min=0.1, max=10.0, description='Pas de réseau -- a (µm)'),\n",
    "    b = FloatSlider(b0, min=0.1, max=2.0, description=\"Taille d'une fente -- b (µm)\",),\n",
    "    lamb = FloatSlider(lamb0, min=0.1, max=3., description=r\"Longueur d'onde -- $\\lambda_0$ (µm)\"),\n",
    "    form_fact = Checkbox(value=False, description='Facteur de forme'),\n",
    "    form_struct = Checkbox(value=False, description='Facteur de structure')\n",
    ")"
   ]
  },
  {
   "cell_type": "code",
   "execution_count": 3,
   "metadata": {
    "collapsed": true
   },
   "outputs": [],
   "source": [
    "def forme(abscisses, b):\n",
    "    \"\"\"\n",
    "    Calcule le facteur de forme du reseau.\n",
    "    \"\"\"\n",
    "    return (np.sinc(b*abscisses))**2\n",
    "\n",
    "\n",
    "def structure(abscisses, lamb, a, N):\n",
    "    \"\"\"\n",
    "    Calcule le facteur de structure du reseau.\n",
    "    \"\"\"\n",
    "    return (np.sin(N*np.pi*a*abscisses/lamb) /\n",
    "            (N*np.sin(np.pi*a*abscisses/lamb)))**2\n",
    "\n",
    "\n",
    "def signal(abscisses, b, lamb, a, N):\n",
    "    \"\"\"\n",
    "    Le signal est le produit du facteur de forme et du facteur de structure.\n",
    "    \"\"\"\n",
    "    return forme(abscisses, b)*structure(abscisses, lamb, a, N)\n",
    "\n",
    "abscisses = np.arange(-2.0, 2.0, 0.001)"
   ]
  },
  {
   "cell_type": "code",
   "execution_count": 4,
   "metadata": {
    "collapsed": true
   },
   "outputs": [],
   "source": [
    "doc = \"\"\" \n",
    "## Diffraction par N fentes\n",
    "\n",
    "L'axe $x$ est sans dimension. Les paramètres $a$, $b$ et $\\lambda$ sont exprimés en µm. \n",
    "\"\"\""
   ]
  },
  {
   "cell_type": "code",
   "execution_count": 5,
   "metadata": {
    "collapsed": true
   },
   "outputs": [],
   "source": [
    "# Réalisation du plot\n",
    "def plot_figure(fig, N, a, b, lamb, form_fact, form_struct):\n",
    "    ax = fig.subplots(1,1)\n",
    "\n",
    "    f = forme(abscisses, b)\n",
    "    s = structure(abscisses, lamb, a, N)\n",
    "\n",
    "    \n",
    "    #Nom des axes\n",
    "    ax.set_xlabel(r\"Position reduite sur l'écran $\\frac{\\pi bx}{\\lambda D}$\")\n",
    "    ax.set_ylabel('Intensité lumineuse normalisée')\n",
    "    \n",
    "    ax.plot(abscisses, signal(abscisses, b, lamb, a, N),\n",
    "                             lw=2, color='red')[0]\n",
    "    if form_fact:\n",
    "        ax.plot(abscisses, forme(abscisses, b), lw=1.5, ls='--', color='blue')\n",
    "\n",
    "    if form_struct:\n",
    "        ax.plot(abscisses, structure(abscisses, lamb, a, N), lw=1.5, ls='--', color='green')\n",
    "\n",
    "    return fig"
   ]
  },
  {
   "cell_type": "code",
   "execution_count": 6,
   "metadata": {
    "collapsed": true
   },
   "outputs": [],
   "source": [
    "##### Affichage non interactif #####\n",
    "#plot_figure(plt.figure(), N=N0, a=a0, b=b0, lamb=lamb0, form_fact=True, form_struct=True)"
   ]
  },
  {
   "cell_type": "code",
   "execution_count": 7,
   "metadata": {},
   "outputs": [
    {
     "data": {
      "application/vnd.jupyter.widget-view+json": {
       "model_id": "7ff102224ae8468aa984f427affc3dc1",
       "version_major": 2,
       "version_minor": 0
      },
      "text/plain": [
       "A Jupyter Widget"
      ]
     },
     "metadata": {},
     "output_type": "display_data"
    }
   ],
   "source": [
    "display_simulation_window('Diffraction par N fentes', parameters, plot_figure, doc)"
   ]
  },
  {
   "cell_type": "code",
   "execution_count": null,
   "metadata": {
    "collapsed": true
   },
   "outputs": [],
   "source": []
  }
 ],
 "metadata": {
  "kernelspec": {
   "display_name": "Python 3",
   "language": "python",
   "name": "python3"
  },
  "language_info": {
   "codemirror_mode": {
    "name": "ipython",
    "version": 3
   },
   "file_extension": ".py",
   "mimetype": "text/x-python",
   "name": "python",
   "nbconvert_exporter": "python",
   "pygments_lexer": "ipython3",
   "version": "3.7.1"
  }
 },
 "nbformat": 4,
 "nbformat_minor": 2
}
