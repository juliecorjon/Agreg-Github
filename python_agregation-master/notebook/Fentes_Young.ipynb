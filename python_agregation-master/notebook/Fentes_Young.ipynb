{
 "cells": [
  {
   "cell_type": "markdown",
   "metadata": {},
   "source": [
    "## Fentes de Young\n",
    "\n",
    "Ce programme représente la figure d'interférence obtenue lorsqu'une onde plane monochromatique de longueur d'onde $\\lambda$ traverse un dispositif de fentes d'Young éloignées d'une distance $a$ (centre-centre) et de largeur $w$. L'écran est positionné à une distance $L$ des fentes. \n",
    "\n",
    "Le résultat présenté est l'intensité lumineuse en fonction de la position sur l'écran.\n",
    "\n",
    "Les paramètres peuvent être variés indépendamment pour observer leur effet sur la figure d'interférence. Il est aussi possible de tracer l'enveloppe de diffraction correspondant à la diffraction par une fente de largeur $w$ seule. "
   ]
  },
  {
   "cell_type": "code",
   "execution_count": 1,
   "metadata": {
    "collapsed": true
   },
   "outputs": [],
   "source": [
    "# Chargement des librairies \n",
    "%matplotlib widget\n",
    "import matplotlib.pyplot as plt\n",
    "plt.ioff()\n",
    "\n",
    "from helpers import display_simulation_window # Module local permettant de faire un application\n",
    "\n",
    "from ipywidgets import FloatSlider, IntSlider, Checkbox\n",
    "\n",
    "import numpy as np"
   ]
  },
  {
   "cell_type": "code",
   "execution_count": 53,
   "metadata": {
    "collapsed": true
   },
   "outputs": [],
   "source": [
    "# Variables globales et paramètres\n",
    "\n",
    "parameters = {\n",
    "    # Remarquer la valeur initiale de lambda : 633 nm\n",
    "    'lamb': FloatSlider(value=633, description=\"Longeur d'onde -- $\\lambda$ (nm)\", min=400, max=800), \n",
    "    'a': FloatSlider(value=1.0, description='Distance entre les fentes -- $a$ (mm)', min=0.5, max=3.0),\n",
    "    'w': FloatSlider(value=100, description=\"Largeur d'une fente -- $w$ ($\\mu$m)\", min=10, max=300),\n",
    "    'L': FloatSlider(value=1, description=\"Distance fentes-écran -- $L$ (m)\", min=.3, max=2),\n",
    "    'show_enveloppe': Checkbox(value=False, description='Enveloppe'),\n",
    "\n",
    "}"
   ]
  },
  {
   "cell_type": "code",
   "execution_count": 54,
   "metadata": {
    "collapsed": true
   },
   "outputs": [],
   "source": [
    "# Modèle utilisé\n",
    "def enveloppe(x, k, L, a, w):\n",
    "    return np.sinc(k*w*x/(2*L))**2\n",
    "\n",
    "\n",
    "def fente_young(x, k, L, a, w):\n",
    "    return enveloppe(x, k, L, a, w)*(np.cos(k*a*x/(2*L)))**2\n"
   ]
  },
  {
   "cell_type": "code",
   "execution_count": 69,
   "metadata": {
    "collapsed": true
   },
   "outputs": [],
   "source": [
    "# Réalisation du plot\n",
    "def plot_figure(fig, lamb, a, w, L, show_enveloppe):\n",
    "    # Conversion en SI\n",
    "    lamb = lamb*1E-9\n",
    "    a = a*1E-3\n",
    "    w = w*1E-6\n",
    "    k = 2*np.pi/lamb\n",
    "    \n",
    "    x = np.linspace(-0.01, 0.01, 1001) #Zone observee : +/- 1 cm\n",
    "    \n",
    "    ax = fig.subplots(1,1)\n",
    "\n",
    "    ax.plot(x, fente_young(x, k, L, a, w))\n",
    "    ax.plot(x, enveloppe(x, k, L, a, w), lw=1, ls='--', visible=show_enveloppe)    \n",
    "\n",
    "    ax.set_xlabel(\"Position sur l'écran (m)\") \n",
    "    ax.set_ylabel('Intensité lumineuse (u.a.)')\n",
    "    return fig"
   ]
  },
  {
   "cell_type": "code",
   "execution_count": 70,
   "metadata": {
    "collapsed": true
   },
   "outputs": [],
   "source": [
    "##### Affichage non interactif #####\n",
    "# plot_figure(plt.figure(), lamb=633, a=1, w=100, L=1, show_enveloppe=True)"
   ]
  },
  {
   "cell_type": "code",
   "execution_count": 71,
   "metadata": {
    "collapsed": true
   },
   "outputs": [],
   "source": [
    "doc = r\"\"\"\n",
    "## Fentes de Young\n",
    "\"\"\"\n"
   ]
  },
  {
   "cell_type": "code",
   "execution_count": 72,
   "metadata": {},
   "outputs": [
    {
     "data": {
      "application/vnd.jupyter.widget-view+json": {
       "model_id": "123e0c98dfc14cd296e56e5261d7afca",
       "version_major": 2,
       "version_minor": 0
      },
      "text/plain": [
       "A Jupyter Widget"
      ]
     },
     "metadata": {},
     "output_type": "display_data"
    }
   ],
   "source": [
    "\n",
    "display_simulation_window('Titre', parameters, plot_figure, doc)"
   ]
  },
  {
   "cell_type": "code",
   "execution_count": 8,
   "metadata": {},
   "outputs": [
    {
     "data": {
      "text/plain": [
       "['cou--cou']"
      ]
     },
     "execution_count": 8,
     "metadata": {},
     "output_type": "execute_result"
    }
   ],
   "source": [
    "'cou--cou'.split('-h-', 1)"
   ]
  },
  {
   "cell_type": "code",
   "execution_count": null,
   "metadata": {
    "collapsed": true
   },
   "outputs": [],
   "source": []
  }
 ],
 "metadata": {
  "kernelspec": {
   "display_name": "Python 3",
   "language": "python",
   "name": "python3"
  },
  "language_info": {
   "codemirror_mode": {
    "name": "ipython",
    "version": 3
   },
   "file_extension": ".py",
   "mimetype": "text/x-python",
   "name": "python",
   "nbconvert_exporter": "python",
   "pygments_lexer": "ipython3",
   "version": "3.6.5"
  }
 },
 "nbformat": 4,
 "nbformat_minor": 2
}
