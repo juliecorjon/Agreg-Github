{
 "cells": [
  {
   "cell_type": "markdown",
   "metadata": {},
   "source": [
    "## Effet tunnel\n",
    "\n",
    "Ce programme permet de calculer la transmission d'une barrière de potentiel pour une onde de matière incidente d'énergie $E$ variable. Il permet en particulier de mettre en évidence l'effet tunnel. Il est également possible de faire varier la largeur de la barrière $d$. Sont également représentées, l'équivalent classique de la transmission, et l'approximation de barrière large habituelle en mécanique quantique dans sa limite de validité."
   ]
  },
  {
   "cell_type": "code",
   "execution_count": null,
   "metadata": {},
   "outputs": [],
   "source": [
    "# Chargement des librairies \n",
    "%matplotlib widget\n",
    "import matplotlib.pyplot as plt\n",
    "plt.ioff()\n",
    "\n",
    "from helpers import display_simulation_window # Module local permettant de faire un application\n",
    "\n",
    "from ipywidgets import FloatSlider, IntSlider\n",
    "\n",
    "import numpy as np\n",
    "\n",
    "from numpy.lib.scimath import sqrt # sqrt pour nombre complexe"
   ]
  },
  {
   "cell_type": "code",
   "execution_count": null,
   "metadata": {},
   "outputs": [],
   "source": [
    "# Variables globales et paramètres\n",
    "\n",
    "hbar = 1\n",
    "m = 1\n",
    "\n",
    "V0 = 1 # Hauteur de la barriere, c'est l'unite d'energie\n",
    "approx = 1.3 # Valeur minimale acceptable pour K*d afin que l'approximation de barriere large soit verifiee\n",
    "\n",
    "parameters = {\n",
    "    'E_max':FloatSlider(value=6, min=0, max=12, description=\"E_max\"),\n",
    "    'd':FloatSlider(value=2, min=0, max=6, description='d')\n",
    "}\n",
    "\n"
   ]
  },
  {
   "cell_type": "code",
   "execution_count": null,
   "metadata": {},
   "outputs": [],
   "source": [
    "# Modèle utilisé\n",
    "def transmission(E, V, d):\n",
    "    \"\"\" Tranmission par effet tunnel: formule exacte\"\"\"\n",
    "    k = sqrt(2*m*E)/hbar # Vecteur d'onde a l'exterieur de la barriere\n",
    "    K = sqrt(2*m*(V-E))/hbar # Vecteur d'onde a l'interieur de la barriere\n",
    "    #t = 2*i*k*K*np.exp(-i*k*d)*1/ ( (K**2+k**2)*np.sinh(K*d) + 2*i*K*k*np.cosh(K*d) ) # coefficient de transmission en amplitude\n",
    "    T = np.real(4*K**2*k**2 / ( (K**2+k**2)**2*np.sinh(K*d)**2 + 4*K**2*k**2 ) ) # coefficient de transmission en probabilite\n",
    "    return T\n",
    "\n",
    "def transmission_classique(E, V, d):\n",
    "    \"\"\"Tranmission par effet tunnel: cas classique\"\"\"\n",
    "    T = (E-V) > 0 # Si E>V, la particule passe, sinon elle est reflechie\n",
    "    return T\n",
    "\n",
    "def limite_large_barriere(E, V, d): \n",
    "    \"\"\"Tranmission par effet tunnel: Cas d'une barriere épaisse, ou la formule se simplifie \"\"\"\n",
    "    k = sqrt(2*m*E)/hbar # Vecteur d'onde a l'exterieur de la barriere\n",
    "    K = sqrt(2*m*(V-E))/hbar # Vecteur d'onde a l'interieur de la barriere\n",
    "    T=np.real(16*K**2*k**2 / (K**2+k**2)**2 *np.exp(-2*K*d))\n",
    "    validite = (E<V) & (K*d>approx)\n",
    "    return T, validite"
   ]
  },
  {
   "cell_type": "code",
   "execution_count": null,
   "metadata": {},
   "outputs": [],
   "source": [
    "# Réalisation du plot\n",
    "def plot_figure(fig, E_max=6, d=2):\n",
    "    fig.clf()\n",
    "    ax = fig.subplots(1,1)\n",
    "    E_abscisse = np.linspace(0, E_max, 200)\n",
    "    T_exact = transmission(E_abscisse, V0, d)\n",
    "    T_classique = transmission_classique(E_abscisse, V0, d)\n",
    "    T_large_barriere, validite_large_barriere = limite_large_barriere(E_abscisse, V0, d)\n",
    "\n",
    "    ax.plot(E_abscisse, T_exact, label='Quantique')\n",
    "    ax.plot(E_abscisse, T_classique, ls='--', label='Classique')\n",
    "    ax.plot(E_abscisse[validite_large_barriere], T_large_barriere[validite_large_barriere],\n",
    "            ls='--', label='barriere large: Kd>'+str(approx))\n",
    "    ax.legend()\n",
    "\n",
    "    ax.set_xlabel('Énergie (en unite de $V_0$)') \n",
    "    ax.set_ylabel('Transmission')\n",
    "    fig.canvas.draw()\n",
    "    fig.canvas.flush_events()"
   ]
  },
  {
   "cell_type": "code",
   "execution_count": null,
   "metadata": {},
   "outputs": [],
   "source": [
    "##### Affichage non interactif #####\n",
    "# plot_figure(plt.figure())"
   ]
  },
  {
   "cell_type": "code",
   "execution_count": null,
   "metadata": {},
   "outputs": [],
   "source": [
    "doc = r\"\"\"\n",
    "## Equations de l'effet Tunnel\n",
    "\n",
    "* $T = \\frac{4K^2k^2}{(K^2+k^2)\\mathrm{sh}^2(Kd)+4K^2k^2}$\n",
    "* $K = \\sqrt{2m(V_0-E)}/\\hbar$\n",
    "* $k = \\sqrt{2mE}/\\hbar$\n",
    "\n",
    "\"\"\"\n"
   ]
  },
  {
   "cell_type": "code",
   "execution_count": null,
   "metadata": {},
   "outputs": [],
   "source": [
    "display_simulation_window('Titre', parameters, plot_figure, doc)"
   ]
  },
  {
   "cell_type": "code",
   "execution_count": null,
   "metadata": {},
   "outputs": [],
   "source": []
  },
  {
   "cell_type": "code",
   "execution_count": null,
   "metadata": {},
   "outputs": [],
   "source": []
  },
  {
   "cell_type": "code",
   "execution_count": null,
   "metadata": {},
   "outputs": [],
   "source": []
  },
  {
   "cell_type": "code",
   "execution_count": null,
   "metadata": {},
   "outputs": [],
   "source": []
  }
 ],
 "metadata": {
  "kernelspec": {
   "display_name": "Python 3",
   "language": "python",
   "name": "python3"
  },
  "language_info": {
   "codemirror_mode": {
    "name": "ipython",
    "version": 3
   },
   "file_extension": ".py",
   "mimetype": "text/x-python",
   "name": "python",
   "nbconvert_exporter": "python",
   "pygments_lexer": "ipython3",
   "version": "3.6.5"
  }
 },
 "nbformat": 4,
 "nbformat_minor": 2
}
